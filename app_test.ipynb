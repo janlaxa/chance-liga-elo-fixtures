{
 "cells": [
  {
   "cell_type": "code",
   "execution_count": 50,
   "metadata": {},
   "outputs": [
    {
     "name": "stderr",
     "output_type": "stream",
     "text": [
      "2025-03-01 17:43:09.895 Thread 'MainThread': missing ScriptRunContext! This warning can be ignored when running in bare mode.\n"
     ]
    }
   ],
   "source": [
    "import streamlit as st\n",
    "import pandas as pd\n",
    "import numpy as np\n",
    "import datetime\n",
    "import os\n",
    "import plotly.graph_objects as go\n",
    "import plotly.express as px\n",
    "import base64\n",
    "from io import BytesIO\n",
    "from PIL import Image\n",
    "\n",
    "\n",
    "from modules.get_scoreboard_name import get_scoreboard_name\n",
    "from data.raw.club_mapping import club_mapping\n",
    "\n",
    "# Page config\n",
    "st.set_page_config(page_title=\"Czech Football Clubs ELO\", layout=\"wide\")\n",
    "\n",
    "def encode_image(image_path):\n",
    "    with open(image_path, \"rb\") as img_file:\n",
    "        return \"data:image/png;base64,\" + base64.b64encode(img_file.read()).decode()\n",
    "\n",
    "    \n",
    "today = datetime.datetime.today()\n",
    "club_average_opponent_elo = pd.read_csv(\"data/processed/club_average_opponent_elo.csv\")\n",
    "club_average_opponent_elo[\"scoreboard\"] = club_average_opponent_elo[\"club_name\"].apply(lambda x: get_scoreboard_name(x, club_mapping))\n",
    "fixtures = pd.read_csv(\"data/processed/fixtures.csv\")\n",
    "club_elo = pd.read_csv(\"data/processed/club_elo.csv\")\n"
   ]
  },
  {
   "cell_type": "code",
   "execution_count": null,
   "metadata": {},
   "outputs": [
    {
     "data": {
      "application/vnd.plotly.v1+json": {
       "config": {
        "plotlyServerURL": "https://plot.ly"
       },
       "data": [
        {
         "marker": {
          "color": "rgba(0,0,0,0.4)"
         },
         "name": "Club ELO",
         "orientation": "h",
         "type": "bar",
         "width": 0.7,
         "x": [
          1340,
          1405,
          1401,
          1191,
          1411,
          1693,
          1300,
          1607,
          1371,
          1495,
          1432,
          1438,
          1292,
          1232,
          1367,
          1630
         ],
         "y": [
          "FK Teplice",
          "SK Sigma Olomouc",
          "FC Slovan Liberec",
          "SK Dynamo České Budějovice",
          "FC Hradec Králové",
          "SK Slavia Praha",
          "MFK Karviná",
          "FC Viktoria Plzeň",
          "1. FC Slovácko",
          "FC Baník Ostrava",
          "FK Jablonec",
          "FK Mladá Boleslav",
          "FK Pardubice",
          "FK Dukla Praha",
          "Bohemians 1905",
          "AC Sparta Praha"
         ]
        },
        {
         "marker": {
          "color": "blue"
         },
         "name": "Average Opponent ELO",
         "orientation": "h",
         "text": [
          1328,
          1345,
          1366,
          1371,
          1388,
          1391,
          1392,
          1403,
          1419,
          1427,
          1428,
          1437,
          1443,
          1445,
          1467,
          1487
         ],
         "textposition": "inside",
         "type": "bar",
         "width": 0.5,
         "x": [
          1328,
          1345.3333333333333,
          1366.7142857142858,
          1371.3333333333333,
          1388.3333333333333,
          1391.857142857143,
          1392.75,
          1403.571428571429,
          1419.571428571429,
          1427.6666666666667,
          1428.1666666666667,
          1437.571428571429,
          1443.2857142857142,
          1445.75,
          1467.142857142857,
          1487.6666666666667
         ],
         "y": [
          "FK Teplice",
          "SK Sigma Olomouc",
          "FC Slovan Liberec",
          "SK Dynamo České Budějovice",
          "FC Hradec Králové",
          "SK Slavia Praha",
          "MFK Karviná",
          "FC Viktoria Plzeň",
          "1. FC Slovácko",
          "FC Baník Ostrava",
          "FK Jablonec",
          "FK Mladá Boleslav",
          "FK Pardubice",
          "FK Dukla Praha",
          "Bohemians 1905",
          "AC Sparta Praha"
         ]
        }
       ],
       "layout": {
        "barmode": "overlay",
        "height": 600,
        "images": [
         {
          "sizex": 0.1,
          "sizey": 1,
          "source": "data:image/png;base64,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",
          "x": 0,
          "xanchor": "right",
          "xref": "paper",
          "y": "FK Teplice",
          "yanchor": "middle",
          "yref": "y"
         },
         {
          "sizex": 0.1,
          "sizey": 1,
          "source": "data:image/png;base64,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",
          "x": 0,
          "xanchor": "right",
          "xref": "paper",
          "y": "SK Sigma Olomouc",
          "yanchor": "middle",
          "yref": "y"
         },
         {
          "sizex": 0.1,
          "sizey": 1,
          "source": "data:image/png;base64,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",
          "x": 0,
          "xanchor": "right",
          "xref": "paper",
          "y": "FC Slovan Liberec",
          "yanchor": "middle",
          "yref": "y"
         },
         {
          "sizex": 0.1,
          "sizey": 1,
          "source": "data:image/png;base64,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",
          "x": 0,
          "xanchor": "right",
          "xref": "paper",
          "y": "SK Dynamo České Budějovice",
          "yanchor": "middle",
          "yref": "y"
         },
         {
          "sizex": 0.1,
          "sizey": 1,
          "source": "data:image/png;base64,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",
          "x": 0,
          "xanchor": "right",
          "xref": "paper",
          "y": "FC Hradec Králové",
          "yanchor": "middle",
          "yref": "y"
         },
         {
          "sizex": 0.1,
          "sizey": 1,
          "source": "data:image/png;base64,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",
          "x": 0,
          "xanchor": "right",
          "xref": "paper",
          "y": "SK Slavia Praha",
          "yanchor": "middle",
          "yref": "y"
         },
         {
          "sizex": 0.1,
          "sizey": 1,
          "source": "data:image/png;base64,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",
          "x": 0,
          "xanchor": "right",
          "xref": "paper",
          "y": "MFK Karviná",
          "yanchor": "middle",
          "yref": "y"
         },
         {
          "sizex": 0.1,
          "sizey": 1,
          "source": "data:image/png;base64,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",
          "x": 0,
          "xanchor": "right",
          "xref": "paper",
          "y": "FC Viktoria Plzeň",
          "yanchor": "middle",
          "yref": "y"
         },
         {
          "sizex": 0.1,
          "sizey": 1,
          "source": "data:image/png;base64,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",
          "x": 0,
          "xanchor": "right",
          "xref": "paper",
          "y": "1. FC Slovácko",
          "yanchor": "middle",
          "yref": "y"
         },
         {
          "sizex": 0.1,
          "sizey": 1,
          "source": "data:image/png;base64,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",
          "x": 0,
          "xanchor": "right",
          "xref": "paper",
          "y": "FC Baník Ostrava",
          "yanchor": "middle",
          "yref": "y"
         },
         {
          "sizex": 0.1,
          "sizey": 1,
          "source": "data:image/png;base64,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",
          "x": 0,
          "xanchor": "right",
          "xref": "paper",
          "y": "FK Jablonec",
          "yanchor": "middle",
          "yref": "y"
         },
         {
          "sizex": 0.1,
          "sizey": 1,
          "source": "data:image/png;base64,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",
          "x": 0,
          "xanchor": "right",
          "xref": "paper",
          "y": "FK Mladá Boleslav",
          "yanchor": "middle",
          "yref": "y"
         },
         {
          "sizex": 0.1,
          "sizey": 1,
          "source": "data:image/png;base64,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",
          "x": 0,
          "xanchor": "right",
          "xref": "paper",
          "y": "FK Pardubice",
          "yanchor": "middle",
          "yref": "y"
         },
         {
          "sizex": 0.1,
          "sizey": 1,
          "source": "data:image/png;base64,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",
          "x": 0,
          "xanchor": "right",
          "xref": "paper",
          "y": "FK Dukla Praha",
          "yanchor": "middle",
          "yref": "y"
         },
         {
          "sizex": 0.1,
          "sizey": 1,
          "source": "data:image/png;base64,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",
          "x": 0,
          "xanchor": "right",
          "xref": "paper",
          "y": "Bohemians 1905",
          "yanchor": "middle",
          "yref": "y"
         },
         {
          "sizex": 0.1,
          "sizey": 1,
          "source": "data:image/png;base64,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",
          "x": 0,
          "xanchor": "right",
          "xref": "paper",
          "y": "AC Sparta Praha",
          "yanchor": "middle",
          "yref": "y"
         }
        ],
        "legend": {
         "orientation": "h",
         "x": 0.5,
         "xanchor": "center",
         "y": -0.2,
         "yanchor": "bottom"
        },
        "margin": {
         "b": 100,
         "l": 100,
         "r": 20,
         "t": 20
        },
        "template": {
         "data": {
          "candlestick": [
           {
            "decreasing": {
             "line": {
              "color": "#000033"
             }
            },
            "increasing": {
             "line": {
              "color": "#000032"
             }
            },
            "type": "candlestick"
           }
          ],
          "contour": [
           {
            "colorscale": [
             [
              0,
              "#000011"
             ],
             [
              0.1111111111111111,
              "#000012"
             ],
             [
              0.2222222222222222,
              "#000013"
             ],
             [
              0.3333333333333333,
              "#000014"
             ],
             [
              0.4444444444444444,
              "#000015"
             ],
             [
              0.5555555555555556,
              "#000016"
             ],
             [
              0.6666666666666666,
              "#000017"
             ],
             [
              0.7777777777777778,
              "#000018"
             ],
             [
              0.8888888888888888,
              "#000019"
             ],
             [
              1,
              "#000020"
             ]
            ],
            "type": "contour"
           }
          ],
          "contourcarpet": [
           {
            "colorscale": [
             [
              0,
              "#000011"
             ],
             [
              0.1111111111111111,
              "#000012"
             ],
             [
              0.2222222222222222,
              "#000013"
             ],
             [
              0.3333333333333333,
              "#000014"
             ],
             [
              0.4444444444444444,
              "#000015"
             ],
             [
              0.5555555555555556,
              "#000016"
             ],
             [
              0.6666666666666666,
              "#000017"
             ],
             [
              0.7777777777777778,
              "#000018"
             ],
             [
              0.8888888888888888,
              "#000019"
             ],
             [
              1,
              "#000020"
             ]
            ],
            "type": "contourcarpet"
           }
          ],
          "heatmap": [
           {
            "colorscale": [
             [
              0,
              "#000011"
             ],
             [
              0.1111111111111111,
              "#000012"
             ],
             [
              0.2222222222222222,
              "#000013"
             ],
             [
              0.3333333333333333,
              "#000014"
             ],
             [
              0.4444444444444444,
              "#000015"
             ],
             [
              0.5555555555555556,
              "#000016"
             ],
             [
              0.6666666666666666,
              "#000017"
             ],
             [
              0.7777777777777778,
              "#000018"
             ],
             [
              0.8888888888888888,
              "#000019"
             ],
             [
              1,
              "#000020"
             ]
            ],
            "type": "heatmap"
           }
          ],
          "histogram2d": [
           {
            "colorscale": [
             [
              0,
              "#000011"
             ],
             [
              0.1111111111111111,
              "#000012"
             ],
             [
              0.2222222222222222,
              "#000013"
             ],
             [
              0.3333333333333333,
              "#000014"
             ],
             [
              0.4444444444444444,
              "#000015"
             ],
             [
              0.5555555555555556,
              "#000016"
             ],
             [
              0.6666666666666666,
              "#000017"
             ],
             [
              0.7777777777777778,
              "#000018"
             ],
             [
              0.8888888888888888,
              "#000019"
             ],
             [
              1,
              "#000020"
             ]
            ],
            "type": "histogram2d"
           }
          ],
          "icicle": [
           {
            "textfont": {
             "color": "white"
            },
            "type": "icicle"
           }
          ],
          "sankey": [
           {
            "textfont": {
             "color": "#000036"
            },
            "type": "sankey"
           }
          ],
          "scatter": [
           {
            "marker": {
             "line": {
              "width": 0
             }
            },
            "type": "scatter"
           }
          ],
          "table": [
           {
            "cells": {
             "fill": {
              "color": "#000038"
             },
             "font": {
              "color": "#000037"
             },
             "line": {
              "color": "#000039"
             }
            },
            "header": {
             "fill": {
              "color": "#000040"
             },
             "font": {
              "color": "#000036"
             },
             "line": {
              "color": "#000039"
             }
            },
            "type": "table"
           }
          ],
          "waterfall": [
           {
            "connector": {
             "line": {
              "color": "#000036",
              "width": 2
             }
            },
            "decreasing": {
             "marker": {
              "color": "#000033"
             }
            },
            "increasing": {
             "marker": {
              "color": "#000032"
             }
            },
            "totals": {
             "marker": {
              "color": "#000034"
             }
            },
            "type": "waterfall"
           }
          ]
         },
         "layout": {
          "coloraxis": {
           "colorscale": [
            [
             0,
             "#000011"
            ],
            [
             0.1111111111111111,
             "#000012"
            ],
            [
             0.2222222222222222,
             "#000013"
            ],
            [
             0.3333333333333333,
             "#000014"
            ],
            [
             0.4444444444444444,
             "#000015"
            ],
            [
             0.5555555555555556,
             "#000016"
            ],
            [
             0.6666666666666666,
             "#000017"
            ],
            [
             0.7777777777777778,
             "#000018"
            ],
            [
             0.8888888888888888,
             "#000019"
            ],
            [
             1,
             "#000020"
            ]
           ]
          },
          "colorscale": {
           "diverging": [
            [
             0,
             "#000021"
            ],
            [
             0.1,
             "#000022"
            ],
            [
             0.2,
             "#000023"
            ],
            [
             0.3,
             "#000024"
            ],
            [
             0.4,
             "#000025"
            ],
            [
             0.5,
             "#000026"
            ],
            [
             0.6,
             "#000027"
            ],
            [
             0.7,
             "#000028"
            ],
            [
             0.8,
             "#000029"
            ],
            [
             0.9,
             "#000030"
            ],
            [
             1,
             "#000031"
            ]
           ],
           "sequential": [
            [
             0,
             "#000011"
            ],
            [
             0.1111111111111111,
             "#000012"
            ],
            [
             0.2222222222222222,
             "#000013"
            ],
            [
             0.3333333333333333,
             "#000014"
            ],
            [
             0.4444444444444444,
             "#000015"
            ],
            [
             0.5555555555555556,
             "#000016"
            ],
            [
             0.6666666666666666,
             "#000017"
            ],
            [
             0.7777777777777778,
             "#000018"
            ],
            [
             0.8888888888888888,
             "#000019"
            ],
            [
             1,
             "#000020"
            ]
           ],
           "sequentialminus": [
            [
             0,
             "#000011"
            ],
            [
             0.1111111111111111,
             "#000012"
            ],
            [
             0.2222222222222222,
             "#000013"
            ],
            [
             0.3333333333333333,
             "#000014"
            ],
            [
             0.4444444444444444,
             "#000015"
            ],
            [
             0.5555555555555556,
             "#000016"
            ],
            [
             0.6666666666666666,
             "#000017"
            ],
            [
             0.7777777777777778,
             "#000018"
            ],
            [
             0.8888888888888888,
             "#000019"
            ],
            [
             1,
             "#000020"
            ]
           ]
          },
          "colorway": [
           "#000001",
           "#000002",
           "#000003",
           "#000004",
           "#000005",
           "#000006",
           "#000007",
           "#000008",
           "#000009",
           "#000010"
          ]
         }
        },
        "width": 300,
        "yaxis": {
         "automargin": true,
         "tickangle": 0,
         "tickcolor": "white",
         "tickfont": {
          "size": 10
         },
         "ticklabelposition": "outside",
         "ticklen": 30,
         "tickmode": "array",
         "ticktext": [
          "TEP",
          "OLO",
          "LIB",
          "CEB",
          "HKR",
          "SLA",
          "KAR",
          "PLZ",
          "FCS",
          "FCB",
          "FKJ",
          "MBL",
          "PCE",
          "DUK",
          "BOH",
          "ACS"
         ],
         "tickvals": [
          "FK Teplice",
          "SK Sigma Olomouc",
          "FC Slovan Liberec",
          "SK Dynamo České Budějovice",
          "FC Hradec Králové",
          "SK Slavia Praha",
          "MFK Karviná",
          "FC Viktoria Plzeň",
          "1. FC Slovácko",
          "FC Baník Ostrava",
          "FK Jablonec",
          "FK Mladá Boleslav",
          "FK Pardubice",
          "FK Dukla Praha",
          "Bohemians 1905",
          "AC Sparta Praha"
         ]
        }
       }
      }
     },
     "metadata": {},
     "output_type": "display_data"
    }
   ],
   "source": [
    "club_average_opponent_elo = club_average_opponent_elo.sort_values(by=\"average_opponent_elo\")\n",
    "\n",
    "# Create figure\n",
    "fig = go.Figure()\n",
    "\n",
    "# Add the club's own ELO rating (wider, gray bars)\n",
    "fig.add_trace(go.Bar(\n",
    "    y=club_average_opponent_elo[\"club_name\"],\n",
    "    x=club_average_opponent_elo[\"club_elo\"],\n",
    "    name=\"Club ELO\",\n",
    "    orientation='h',\n",
    "    marker=dict(color='rgba(0,0,0,0.4)'),\n",
    "    width=0.7  # Wider bars\n",
    "))\n",
    "\n",
    "# Add the average opponent ELO (thinner, colored bars)\n",
    "fig.add_trace(go.Bar(\n",
    "    y=club_average_opponent_elo[\"club_name\"],\n",
    "    x=club_average_opponent_elo[\"average_opponent_elo\"],\n",
    "    name=\"Average Opponent ELO\",\n",
    "    orientation='h',\n",
    "    marker=dict(color='blue'),\n",
    "    width=0.5,  # Thinner bars\n",
    "    text=club_average_opponent_elo[\"average_opponent_elo\"].astype(int),\n",
    "    textposition='inside'\n",
    "))\n",
    "\n",
    "# Add club logos\n",
    "for idx, row in club_average_opponent_elo.iterrows():\n",
    "    club_info = next((item for item in club_mapping.values() if item[\"club_name\"] == row[\"club_name\"]), None)\n",
    "    if club_info:\n",
    "        fig.add_layout_image(\n",
    "            dict(\n",
    "                source=Image.open(club_info[\"club_logo\"]),\n",
    "                xref=\"paper\", yref=\"y\",\n",
    "                x=0, y=row[\"club_name\"],\n",
    "                sizex=0.1, sizey=1,\n",
    "                xanchor=\"right\", yanchor=\"middle\"\n",
    "            )\n",
    "        )\n",
    "\n",
    "# Layout adjustments\n",
    "fig.update_layout(\n",
    "    barmode='overlay',  # Overlapping bars\n",
    "    width=300,  # Adjust width as needed\n",
    "    height=600,  # Adjust height as needed\n",
    "    yaxis=dict(\n",
    "        tickmode='array',\n",
    "        tickvals=club_average_opponent_elo[\"club_name\"],\n",
    "        ticktext=club_average_opponent_elo[\"scoreboard\"],\n",
    "        tickfont=dict(size=10),\n",
    "        tickangle=0,\n",
    "        automargin=True,\n",
    "        ticklabelposition=\"outside\",\n",
    "        ticklen=20,\n",
    "        tickcolor='white',\n",
    "    ),\n",
    "    legend=dict(\n",
    "        orientation=\"h\",\n",
    "        yanchor=\"bottom\",\n",
    "        y=-0.2,\n",
    "        xanchor=\"center\",\n",
    "        x=0.5\n",
    "    ),\n",
    "    margin=dict(l=100, r=20, t=20, b=100)  # Adjust margins as needed\n",
    ")\n",
    "\n",
    "fig.show()"
   ]
  }
 ],
 "metadata": {
  "kernelspec": {
   "display_name": ".venv",
   "language": "python",
   "name": "python3"
  },
  "language_info": {
   "codemirror_mode": {
    "name": "ipython",
    "version": 3
   },
   "file_extension": ".py",
   "mimetype": "text/x-python",
   "name": "python",
   "nbconvert_exporter": "python",
   "pygments_lexer": "ipython3",
   "version": "3.12.0"
  }
 },
 "nbformat": 4,
 "nbformat_minor": 2
}
