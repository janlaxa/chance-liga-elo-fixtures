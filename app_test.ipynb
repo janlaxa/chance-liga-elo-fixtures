{
 "cells": [
  {
   "cell_type": "code",
   "execution_count": 8,
   "metadata": {},
   "outputs": [
    {
     "name": "stderr",
     "output_type": "stream",
     "text": [
      "2025-02-18 15:04:30.975 Thread 'MainThread': missing ScriptRunContext! This warning can be ignored when running in bare mode.\n"
     ]
    }
   ],
   "source": [
    "import streamlit as st\n",
    "import pandas as pd\n",
    "import requests\n",
    "from datetime import datetime\n",
    "from io import StringIO\n",
    "\n",
    "from modules.get_elo_data import get_elo_data\n",
    "from modules.get_fixtures import get_fixtures\n",
    "\n",
    "# Page config\n",
    "st.set_page_config(page_title=\"Czech Football Clubs ELO\", layout=\"wide\")\n"
   ]
  },
  {
   "cell_type": "code",
   "execution_count": 9,
   "metadata": {},
   "outputs": [],
   "source": [
    "club_mapping = {\n",
    "    62: {\"tm_name\": \"sk-slavia-prag\", \"elo_api_name\": \"SlaviaPraha\", \"club_name\": \"SK Slavia Praha\"},\n",
    "    5546: {\"tm_name\": \"fk-mlada-boleslav\", \"elo_api_name\": \"MladaBoleslav\", \"club_name\": \"FK Mladá Boleslav\"},\n",
    "    715: {\"tm_name\": \"fc-bohemians-prag-1905\", \"elo_api_name\": \"BohemiansPraha\", \"club_name\": \"Bohemians 1905\"},\n",
    "    1496: {\"tm_name\": \"fk-pardubice\", \"elo_api_name\": \"Pardubice\", \"club_name\": \"FK Pardubice\"},\n",
    "    377: {\"tm_name\": \"fc-banik-ostrau\", \"elo_api_name\": \"BanikOstrava\", \"club_name\": \"FC Baník Ostrava\"},\n",
    "    197: {\"tm_name\": \"ac-sparta-prag\", \"elo_api_name\": \"SpartaPraha\", \"club_name\": \"AC Sparta Praha\"},\n",
    "    1322: {\"tm_name\": \"fk-jablonec\", \"elo_api_name\": \"Jablonec\", \"club_name\": \"FK Jablonec\"},\n",
    "    1897: {\"tm_name\": \"fc-hradec-kralove\", \"elo_api_name\": \"HradecKralove\", \"club_name\": \"FC Hradec Králové\"},\n",
    "    13726: {\"tm_name\": \"mfk-karvina\", \"elo_api_name\": \"Karvina\", \"club_name\": \"MFK Karviná\"},\n",
    "    1321: {\"tm_name\": \"sk-dynamo-ceske-budejovice\", \"elo_api_name\": \"CeskeBudejovice\", \"club_name\": \"SK Dynamo České Budějovice\"},\n",
    "    814: {\"tm_name\": \"fk-teplice\", \"elo_api_name\": \"Teplice\", \"club_name\": \"FK Teplice\"},\n",
    "    697: {\"tm_name\": \"fc-slovan-liberec\", \"elo_api_name\": \"SlovanLiberec\", \"club_name\": \"FC Slovan Liberec\"},\n",
    "    941: {\"tm_name\": \"fc-viktoria-pilsen\", \"elo_api_name\": \"ViktoriaPlzen\", \"club_name\": \"FC Viktoria Plzeň\"},\n",
    "    2311: {\"tm_name\": \"sk-sigma-olmutz\", \"elo_api_name\": \"SigmaOlomouc\", \"club_name\": \"SK Sigma Olomouc\"},\n",
    "    450: {\"tm_name\": \"fk-dukla-prag\", \"elo_api_name\": \"Dukla\", \"club_name\": \"FK Dukla Praha\"},\n",
    "    5544: {\"tm_name\": \"1-fc-slovacko\", \"elo_api_name\": \"Slovacko\", \"club_name\": \"1. FC Slovácko\"}\n",
    "}\n",
    "\n",
    "czech_clubs = pd.DataFrame.from_dict(club_mapping, orient=\"index\").reset_index().rename(columns={\"index\": \"club_id\"})\n"
   ]
  },
  {
   "cell_type": "code",
   "execution_count": 10,
   "metadata": {},
   "outputs": [],
   "source": [
    "fixtures = get_fixtures(2024, czech_clubs, club_mapping)"
   ]
  },
  {
   "cell_type": "code",
   "execution_count": 11,
   "metadata": {},
   "outputs": [],
   "source": [
    "# Create a list to store club data\n",
    "df_club_elo = []\n",
    "\n",
    "# Fetch data for each club\n",
    "for club in czech_clubs[\"elo_api_name\"]:\n",
    "    elo, date, club_elo_df = get_elo_data(club)\n",
    "    if elo is not None:\n",
    "        df_club_elo.append({\n",
    "            'elo_api_name': club,\n",
    "            'elo_rating': round(elo),\n",
    "            'updated_at': date\n",
    "        })\n",
    "\n",
    "df_club_elo = pd.DataFrame(df_club_elo)\n"
   ]
  },
  {
   "cell_type": "code",
   "execution_count": 12,
   "metadata": {},
   "outputs": [],
   "source": [
    "elo_to_club = {entry[\"elo_api_name\"]: entry[\"club_name\"] for entry in club_mapping.values()}\n",
    "df_club_elo[\"club_name\"] = df_club_elo[\"elo_api_name\"].map(elo_to_club)\n",
    "\n",
    "fixtures_clubs = {}\n",
    "club_average_opponent_elo = pd.DataFrame(columns=[\"club_name\", \"average_home_opponent_elo\", \"average_away_opponent_elo\", \"average_opponent_elo\"])\n",
    "\n",
    "for club in czech_clubs[\"club_name\"]:\n",
    "    fixtures_clubs[club] = fixtures[(fixtures[\"home_team\"] == club) | (fixtures[\"away_team\"] == club)]\n",
    "    fixtures_clubs[club] = fixtures_clubs[club].sort_values(by=\"event_timestamp\")\n",
    "    fixtures_clubs[club][\"home_away\"] = fixtures_clubs[club].apply(lambda x: \"home\" if x[\"home_team\"] == club else \"away\", axis=1)\n",
    "    fixtures_clubs[club][\"opponent_elo\"] = fixtures_clubs[club].apply(lambda x: df_club_elo[df_club_elo[\"club_name\"] == x[\"away_team\"]][\"elo_rating\"].values[0] if x[\"home_away\"] == \"home\" else df_club_elo[df_club_elo[\"club_name\"] == x[\"home_team\"]][\"elo_rating\"].values[0], axis=1)\n",
    "    \n",
    "    future_fixtures = fixtures_clubs[club][fixtures_clubs[club][\"is_planned_tf\"]]\n",
    "\n",
    "    average_home_opponent_elo = future_fixtures[future_fixtures['home_away'] == 'home']['opponent_elo'].mean()\n",
    "    average_away_opponent_elo = future_fixtures[future_fixtures['home_away'] == 'away']['opponent_elo'].mean()\n",
    "    average_opponent_elo = future_fixtures['opponent_elo'].mean()\n",
    "\n",
    "    club_average_opponent_elo.loc[len(club_average_opponent_elo)] = [\n",
    "        club,\n",
    "        average_home_opponent_elo,\n",
    "        average_away_opponent_elo,\n",
    "        average_opponent_elo\n",
    "    ]\n",
    "\n",
    "club_average_opponent_elo.sort_values(by=\"average_opponent_elo\", ascending=False, inplace=True)"
   ]
  },
  {
   "cell_type": "code",
   "execution_count": 14,
   "metadata": {},
   "outputs": [
    {
     "name": "stderr",
     "output_type": "stream",
     "text": [
      "2025-02-18 15:05:58.025 Thread 'MainThread': missing ScriptRunContext! This warning can be ignored when running in bare mode.\n",
      "2025-02-18 15:05:58.026 Thread 'MainThread': missing ScriptRunContext! This warning can be ignored when running in bare mode.\n",
      "2025-02-18 15:05:58.026 Thread 'MainThread': missing ScriptRunContext! This warning can be ignored when running in bare mode.\n",
      "2025-02-18 15:05:58.026 Thread 'MainThread': missing ScriptRunContext! This warning can be ignored when running in bare mode.\n",
      "2025-02-18 15:05:58.027 Thread 'MainThread': missing ScriptRunContext! This warning can be ignored when running in bare mode.\n",
      "2025-02-18 15:05:58.027 Thread 'MainThread': missing ScriptRunContext! This warning can be ignored when running in bare mode.\n",
      "2025-02-18 15:05:58.030 Thread 'MainThread': missing ScriptRunContext! This warning can be ignored when running in bare mode.\n",
      "2025-02-18 15:05:58.030 Thread 'MainThread': missing ScriptRunContext! This warning can be ignored when running in bare mode.\n",
      "2025-02-18 15:05:58.030 Thread 'MainThread': missing ScriptRunContext! This warning can be ignored when running in bare mode.\n",
      "2025-02-18 15:05:58.031 Thread 'MainThread': missing ScriptRunContext! This warning can be ignored when running in bare mode.\n"
     ]
    }
   ],
   "source": [
    "\n",
    "# App title\n",
    "st.title(\"Czech Football Clubs ELO Ratings\")\n",
    "\n",
    "# Display stats\n",
    "st.subheader(\"Current ELO Ratings\")\n",
    "# Custom CSS for tooltip\n",
    "st.markdown(\n",
    "    \"\"\"\n",
    "    <style>\n",
    "    .tooltip {\n",
    "        position: relative;\n",
    "        display: inline-block;\n",
    "        cursor: pointer;\n",
    "    }\n",
    "    \n",
    "    .tooltip .tooltiptext {\n",
    "        visibility: hidden;\n",
    "        width: 120px;\n",
    "        background-color: black;\n",
    "        color: #fff;\n",
    "        text-align: center;\n",
    "        border-radius: 5px;\n",
    "        padding: 5px;\n",
    "        position: absolute;\n",
    "        z-index: 1;\n",
    "        bottom: 100%;\n",
    "        left: 50%;\n",
    "        margin-left: -60px;\n",
    "        opacity: 0;\n",
    "        transition: opacity 0.3s;\n",
    "    }\n",
    "    \n",
    "    .tooltip:hover .tooltiptext {\n",
    "        visibility: visible;\n",
    "        opacity: 1;\n",
    "    }\n",
    "    </style>\n",
    "    \"\"\",\n",
    "    unsafe_allow_html=True\n",
    ")\n",
    "\n",
    "# Add tooltip to club names\n",
    "\n",
    "club_average_opponent_elo[\"club_name\"] = club_average_opponent_elo[\"club_name\"].apply(lambda x: f'<div class=\"tooltip\">{x}<span class=\"tooltiptext\">{x} Name</span></div>')\n",
    "\n",
    "# Display table with tooltips\n",
    "st.write(club_average_opponent_elo.to_html(escape=False), unsafe_allow_html=True)"
   ]
  },
  {
   "cell_type": "code",
   "execution_count": null,
   "metadata": {},
   "outputs": [],
   "source": []
  }
 ],
 "metadata": {
  "kernelspec": {
   "display_name": ".venv",
   "language": "python",
   "name": "python3"
  },
  "language_info": {
   "codemirror_mode": {
    "name": "ipython",
    "version": 3
   },
   "file_extension": ".py",
   "mimetype": "text/x-python",
   "name": "python",
   "nbconvert_exporter": "python",
   "pygments_lexer": "ipython3",
   "version": "3.12.0"
  }
 },
 "nbformat": 4,
 "nbformat_minor": 2
}
