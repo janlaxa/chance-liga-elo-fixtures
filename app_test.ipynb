{
 "cells": [
  {
   "cell_type": "code",
   "execution_count": 31,
   "metadata": {},
   "outputs": [],
   "source": [
    "import streamlit as st\n",
    "import pandas as pd\n",
    "import requests\n",
    "from datetime import datetime\n",
    "from io import StringIO"
   ]
  },
  {
   "cell_type": "code",
   "execution_count": null,
   "metadata": {},
   "outputs": [],
   "source": [
    "# Page config\n",
    "st.set_page_config(page_title=\"Czech Football Clubs ELO\", layout=\"wide\")\n"
   ]
  },
  {
   "cell_type": "code",
   "execution_count": 32,
   "metadata": {},
   "outputs": [],
   "source": [
    "czech_clubs = [\n",
    "    'SlaviaPraha',\n",
    "    'SpartaPraha',\n",
    "    'ViktoriaPlzen',\n",
    "    'BanikOstrava',\n",
    "    'Jablonec',\n",
    "    'HradecKralove',\n",
    "    'SlovanLiberec',\n",
    "    'SigmaOlomouc',\n",
    "    'Slovacko',\n",
    "    'CeskeBudejovice',\n",
    "    'Teplice',\n",
    "    'BohemiansPraha',\n",
    "    'Karvina',\n",
    "    'Dukla',\n",
    "    'Pardubice',\n",
    "    'MladaBoleslav'\n",
    "]"
   ]
  },
  {
   "cell_type": "code",
   "execution_count": 33,
   "metadata": {},
   "outputs": [],
   "source": [
    "def get_elo_data(club):\n",
    "    try:\n",
    "        \"\"\"Fetch ELO data from the API\"\"\"\n",
    "        response = requests.get(f'http://api.clubelo.com/{club}')\n",
    "        df = pd.read_csv(StringIO(response.text))\n",
    "        latest_elo = df.iloc[-1]['Elo']\n",
    "        latest_date = df.iloc[-1]['From']\n",
    "        return latest_elo, latest_date, df\n",
    "    except:\n",
    "        return None, None, None"
   ]
  },
  {
   "cell_type": "code",
   "execution_count": 34,
   "metadata": {},
   "outputs": [],
   "source": [
    "# Create a list to store club data\n",
    "clubs_data = []\n",
    "\n",
    "# Fetch data for each club\n",
    "for club in czech_clubs:\n",
    "    elo, date, club_elo_df = get_elo_data(club)\n",
    "    if elo is not None:\n",
    "        # Format club name for display (remove camel case)\n",
    "        display_name = ''.join([' ' + c if c.isupper() else c for c in club]).strip()\n",
    "        clubs_data.append({\n",
    "            'Club': display_name,\n",
    "            'ELO Rating': round(elo),\n",
    "            'Last Updated': date\n",
    "        })"
   ]
  },
  {
   "cell_type": "code",
   "execution_count": null,
   "metadata": {},
   "outputs": [],
   "source": [
    "import http.client\n",
    "\n",
    "conn = http.client.HTTPSConnection(\"v3.football.api-sports.io\")\n",
    "\n",
    "headers = {\n",
    "    'x-rapidapi-host': \"v3.football.api-sports.io\",\n",
    "    'x-rapidapi-key': \"XxXxXxXxXxXxXxXxXxXxXxXx\"\n",
    "    }\n",
    "\n",
    "conn.request(\"GET\", \"/fixtures?live=all\", headers=headers)\n",
    "\n",
    "res = conn.getresponse()\n",
    "data = res.read()\n",
    "\n",
    "print(data.decode(\"utf-8\"))\n"
   ]
  },
  {
   "cell_type": "code",
   "execution_count": 35,
   "metadata": {},
   "outputs": [],
   "source": [
    "# Convert to DataFrame and sort by ELO\n",
    "clubs_df = pd.DataFrame(clubs_data)\n",
    "clubs_df = clubs_df.sort_values('ELO Rating', ascending=False)\n"
   ]
  },
  {
   "cell_type": "code",
   "execution_count": 36,
   "metadata": {},
   "outputs": [
    {
     "name": "stderr",
     "output_type": "stream",
     "text": [
      "2025-02-13 19:45:34.669 Thread 'MainThread': missing ScriptRunContext! This warning can be ignored when running in bare mode.\n",
      "2025-02-13 19:45:34.670 Thread 'MainThread': missing ScriptRunContext! This warning can be ignored when running in bare mode.\n",
      "2025-02-13 19:45:34.670 Thread 'MainThread': missing ScriptRunContext! This warning can be ignored when running in bare mode.\n",
      "2025-02-13 19:45:34.671 Thread 'MainThread': missing ScriptRunContext! This warning can be ignored when running in bare mode.\n",
      "2025-02-13 19:45:34.671 Thread 'MainThread': missing ScriptRunContext! This warning can be ignored when running in bare mode.\n",
      "2025-02-13 19:45:34.672 Thread 'MainThread': missing ScriptRunContext! This warning can be ignored when running in bare mode.\n",
      "2025-02-13 19:45:34.673 Thread 'MainThread': missing ScriptRunContext! This warning can be ignored when running in bare mode.\n",
      "2025-02-13 19:45:34.673 Thread 'MainThread': missing ScriptRunContext! This warning can be ignored when running in bare mode.\n",
      "2025-02-13 19:45:34.673 Thread 'MainThread': missing ScriptRunContext! This warning can be ignored when running in bare mode.\n",
      "2025-02-13 19:45:34.674 Thread 'MainThread': missing ScriptRunContext! This warning can be ignored when running in bare mode.\n",
      "2025-02-13 19:45:34.674 Thread 'MainThread': missing ScriptRunContext! This warning can be ignored when running in bare mode.\n",
      "2025-02-13 19:45:34.674 Thread 'MainThread': missing ScriptRunContext! This warning can be ignored when running in bare mode.\n",
      "2025-02-13 19:45:34.674 Thread 'MainThread': missing ScriptRunContext! This warning can be ignored when running in bare mode.\n",
      "2025-02-13 19:45:34.675 Thread 'MainThread': missing ScriptRunContext! This warning can be ignored when running in bare mode.\n",
      "2025-02-13 19:45:34.675 Thread 'MainThread': missing ScriptRunContext! This warning can be ignored when running in bare mode.\n",
      "2025-02-13 19:45:34.675 Thread 'MainThread': missing ScriptRunContext! This warning can be ignored when running in bare mode.\n",
      "2025-02-13 19:45:34.676 Thread 'MainThread': missing ScriptRunContext! This warning can be ignored when running in bare mode.\n",
      "2025-02-13 19:45:34.676 Thread 'MainThread': missing ScriptRunContext! This warning can be ignored when running in bare mode.\n",
      "2025-02-13 19:45:34.676 Thread 'MainThread': missing ScriptRunContext! This warning can be ignored when running in bare mode.\n",
      "2025-02-13 19:45:34.677 Thread 'MainThread': missing ScriptRunContext! This warning can be ignored when running in bare mode.\n",
      "2025-02-13 19:45:34.677 Thread 'MainThread': missing ScriptRunContext! This warning can be ignored when running in bare mode.\n",
      "2025-02-13 19:45:34.677 Thread 'MainThread': missing ScriptRunContext! This warning can be ignored when running in bare mode.\n",
      "2025-02-13 19:45:34.678 Thread 'MainThread': missing ScriptRunContext! This warning can be ignored when running in bare mode.\n",
      "2025-02-13 19:45:34.678 Thread 'MainThread': missing ScriptRunContext! This warning can be ignored when running in bare mode.\n",
      "2025-02-13 19:45:34.678 Thread 'MainThread': missing ScriptRunContext! This warning can be ignored when running in bare mode.\n",
      "2025-02-13 19:45:34.685 Thread 'MainThread': missing ScriptRunContext! This warning can be ignored when running in bare mode.\n",
      "2025-02-13 19:45:34.685 Thread 'MainThread': missing ScriptRunContext! This warning can be ignored when running in bare mode.\n"
     ]
    },
    {
     "data": {
      "text/plain": [
       "DeltaGenerator()"
      ]
     },
     "execution_count": 36,
     "metadata": {},
     "output_type": "execute_result"
    }
   ],
   "source": [
    "\n",
    "# App title\n",
    "st.title(\"Czech Football Clubs ELO Ratings\")\n",
    "\n",
    "# Display stats\n",
    "st.subheader(\"Current ELO Ratings\")\n",
    "st.dataframe(\n",
    "    clubs_df,\n",
    "    hide_index=True,\n",
    "    column_config={\n",
    "        'ELO Rating': st.column_config.NumberColumn(format=\"%d\"),\n",
    "        'Last Updated': st.column_config.DateColumn('Last Updated')\n",
    "    }\n",
    ")\n",
    "\n",
    "# Calculate and display some statistics\n",
    "st.subheader(\"League Statistics\")\n",
    "col1, col2, col3 = st.columns(3)\n",
    "\n",
    "with col1:\n",
    "    st.metric(\"Highest ELO\", f\"{clubs_df['ELO Rating'].max()}\")\n",
    "    st.caption(f\"({clubs_df.iloc[0]['Club']})\")\n",
    "    \n",
    "with col2:\n",
    "    st.metric(\"Average ELO\", f\"{round(clubs_df['ELO Rating'].mean())}\")\n",
    "    \n",
    "with col3:\n",
    "    st.metric(\"Lowest ELO\", f\"{clubs_df['ELO Rating'].min()}\")\n",
    "    st.caption(f\"({clubs_df.iloc[-1]['Club']})\")\n",
    "\n",
    "# Create a bar chart\n",
    "st.subheader(\"ELO Ratings Comparison\")\n",
    "chart_data = clubs_df.set_index('Club')\n",
    "st.bar_chart(chart_data['ELO Rating'])"
   ]
  },
  {
   "cell_type": "code",
   "execution_count": 59,
   "metadata": {},
   "outputs": [],
   "source": [
    "import requests\n",
    "from bs4 import BeautifulSoup\n",
    "import re\n",
    "import pandas as pd\n",
    "\n",
    "def get_club_ids(season):\n",
    "    clubs = pd.DataFrame(columns=[\"club_id\", \"club_name\"])\n",
    "    url = f\"https://www.transfermarkt.com/1-fc-slovacko/spielplandatum/verein/5544/plus/0?saison_id={season}&wettbewerb_id=TS1\"\n",
    "    headers = {\"User-Agent\": \"Mozilla/5.0\"}\n",
    "    response = requests.get(url, headers=headers)\n",
    "    if response.status_code != 200:\n",
    "        print(\"Failed to retrieve data\")\n",
    "        exit()\n",
    "\n",
    "    soup = BeautifulSoup(response.text, 'html.parser')\n",
    "\n",
    "    soup = soup.find(\"div\", class_=\"responsive-table\")\n",
    "    # Finding match rows in the fixture table\n",
    "    match_rows = soup.select(\"tr\")\n",
    "\n",
    "    for row in match_rows:\n",
    "        zentriert_columns = [td.text.strip() for td in row.find_all(\"td\", class_=[\"zentriert\", \"no-border-links hauptlink\"])]\n",
    "        if not zentriert_columns:\n",
    "            continue\n",
    "        club_id = re.search(r\"/verein/(\\d+)/\", [td.find(\"a\")[\"href\"] for td in row.find_all(\"td\", class_=\"no-border-links hauptlink\") if td.find(\"a\")][0]).group(1)\n",
    "        club_name = re.search(r\"/([^/]+)/spielplan/\", [td.find(\"a\")[\"href\"] for td in row.find_all(\"td\", class_=\"no-border-links hauptlink\") if td.find(\"a\")][0]).group(1)\n",
    "        new_row = pd.DataFrame({\"club_id\": [club_id], \"club_name\": [club_name]})\n",
    "        clubs = pd.concat([clubs, new_row], ignore_index=True)\n",
    "\n",
    "    clubs = clubs[['club_id', 'club_name']].drop_duplicates()\n",
    "    return clubs\n",
    "\n",
    "clubs = get_club_ids(2024)\n",
    "fixtures = []\n",
    "\n",
    "for index, row in clubs.iterrows():\n",
    "    club_id = row[\"club_id\"]\n",
    "    club_name = row[\"club_name\"]\n",
    "    url = f\"https://www.transfermarkt.de/{club_name}/spielplandatum/verein/{club_id}/plus/0?saison_id=2024&wettbewerb_id=TS1\"\n",
    "    response = requests.get(url, headers=headers)\n",
    "    if response.status_code != 200:\n",
    "        print(\"Failed to retrieve data\")\n",
    "        continue\n",
    "\n",
    "    soup = BeautifulSoup(response.text, 'html.parser')\n",
    "    \n",
    "\n",
    "    soup = soup.find(\"div\", class_=\"responsive-table\")\n",
    "    # Finding match rows in the fixture table\n",
    "    match_rows = soup.select(\"tr\")\n",
    "\n",
    "    for row in match_rows:\n",
    "        zentriert_columns = [td.text.strip() for td in row.find_all(\"td\", class_=[\"zentriert\", \"no-border-links hauptlink\"])]\n",
    "        if not zentriert_columns:\n",
    "            continue\n",
    "        \n",
    "        if zentriert_columns[3] == 'H':\n",
    "            home_team = club_name\n",
    "            away_team = re.search(r\"/([^/]+)/spielplan/\", [td.find(\"a\")[\"href\"] for td in row.find_all(\"td\", class_=\"no-border-links hauptlink\") if td.find(\"a\")][0]).group(1)\n",
    "        \n",
    "        else:\n",
    "            home_team = re.search(r\"/([^/]+)/spielplan/\", [td.find(\"a\")[\"href\"] for td in row.find_all(\"td\", class_=\"no-border-links hauptlink\") if td.find(\"a\")][0]).group(1)\n",
    "            away_team = club_name\n",
    "\n",
    "        event_date = zentriert_columns[1]\n",
    "        event_time = zentriert_columns[2]\n",
    "\n",
    "        fixtures.append({\"home_team\": home_team, \"away_team\": away_team, \"event_date\": str(event_date), \"event_time\": event_time})\n",
    "    \n",
    "\n",
    "fixtures = pd.DataFrame(fixtures)\n",
    "\n"
   ]
  },
  {
   "cell_type": "code",
   "execution_count": 61,
   "metadata": {},
   "outputs": [
    {
     "data": {
      "text/html": [
       "<div>\n",
       "<style scoped>\n",
       "    .dataframe tbody tr th:only-of-type {\n",
       "        vertical-align: middle;\n",
       "    }\n",
       "\n",
       "    .dataframe tbody tr th {\n",
       "        vertical-align: top;\n",
       "    }\n",
       "\n",
       "    .dataframe thead th {\n",
       "        text-align: right;\n",
       "    }\n",
       "</style>\n",
       "<table border=\"1\" class=\"dataframe\">\n",
       "  <thead>\n",
       "    <tr style=\"text-align: right;\">\n",
       "      <th></th>\n",
       "      <th>home_team</th>\n",
       "      <th>away_team</th>\n",
       "      <th>event_date</th>\n",
       "      <th>event_time</th>\n",
       "    </tr>\n",
       "  </thead>\n",
       "  <tbody>\n",
       "    <tr>\n",
       "      <th>0</th>\n",
       "      <td>1-fc-slovacko</td>\n",
       "      <td>sk-slavia-prag</td>\n",
       "      <td>So. 21.07.24</td>\n",
       "      <td>17:00</td>\n",
       "    </tr>\n",
       "    <tr>\n",
       "      <th>1</th>\n",
       "      <td>sk-slavia-prag</td>\n",
       "      <td>sk-dynamo-ceske-budejovice</td>\n",
       "      <td>Sa. 27.07.24</td>\n",
       "      <td>20:00</td>\n",
       "    </tr>\n",
       "    <tr>\n",
       "      <th>2</th>\n",
       "      <td>fc-slovan-liberec</td>\n",
       "      <td>sk-slavia-prag</td>\n",
       "      <td>Fr. 02.08.24</td>\n",
       "      <td>17:30</td>\n",
       "    </tr>\n",
       "    <tr>\n",
       "      <th>3</th>\n",
       "      <td>sk-slavia-prag</td>\n",
       "      <td>sk-sigma-olmutz</td>\n",
       "      <td>Sa. 10.08.24</td>\n",
       "      <td>20:00</td>\n",
       "    </tr>\n",
       "    <tr>\n",
       "      <th>4</th>\n",
       "      <td>sk-slavia-prag</td>\n",
       "      <td>fk-teplice</td>\n",
       "      <td>Sa. 17.08.24</td>\n",
       "      <td>17:00</td>\n",
       "    </tr>\n",
       "    <tr>\n",
       "      <th>...</th>\n",
       "      <td>...</td>\n",
       "      <td>...</td>\n",
       "      <td>...</td>\n",
       "      <td>...</td>\n",
       "    </tr>\n",
       "    <tr>\n",
       "      <th>404</th>\n",
       "      <td>sk-sigma-olmutz</td>\n",
       "      <td>1-fc-slovacko</td>\n",
       "      <td>Mi. 27.11.24</td>\n",
       "      <td>17:00</td>\n",
       "    </tr>\n",
       "    <tr>\n",
       "      <th>412</th>\n",
       "      <td>fk-dukla-prag</td>\n",
       "      <td>sk-sigma-olmutz</td>\n",
       "      <td>Sa. 22.02.25</td>\n",
       "      <td>00:00</td>\n",
       "    </tr>\n",
       "    <tr>\n",
       "      <th>418</th>\n",
       "      <td>1-fc-slovacko</td>\n",
       "      <td>sk-sigma-olmutz</td>\n",
       "      <td>Sa. 12.04.25</td>\n",
       "      <td>00:00</td>\n",
       "    </tr>\n",
       "    <tr>\n",
       "      <th>436</th>\n",
       "      <td>fk-dukla-prag</td>\n",
       "      <td>1-fc-slovacko</td>\n",
       "      <td>Mi. 04.12.24</td>\n",
       "      <td>17:30</td>\n",
       "    </tr>\n",
       "    <tr>\n",
       "      <th>441</th>\n",
       "      <td>1-fc-slovacko</td>\n",
       "      <td>fk-dukla-prag</td>\n",
       "      <td>Sa. 15.02.25</td>\n",
       "      <td>16:00</td>\n",
       "    </tr>\n",
       "  </tbody>\n",
       "</table>\n",
       "<p>240 rows × 4 columns</p>\n",
       "</div>"
      ],
      "text/plain": [
       "             home_team                   away_team    event_date event_time\n",
       "0        1-fc-slovacko              sk-slavia-prag  So. 21.07.24      17:00\n",
       "1       sk-slavia-prag  sk-dynamo-ceske-budejovice  Sa. 27.07.24      20:00\n",
       "2    fc-slovan-liberec              sk-slavia-prag  Fr. 02.08.24      17:30\n",
       "3       sk-slavia-prag             sk-sigma-olmutz  Sa. 10.08.24      20:00\n",
       "4       sk-slavia-prag                  fk-teplice  Sa. 17.08.24      17:00\n",
       "..                 ...                         ...           ...        ...\n",
       "404    sk-sigma-olmutz               1-fc-slovacko  Mi. 27.11.24      17:00\n",
       "412      fk-dukla-prag             sk-sigma-olmutz  Sa. 22.02.25      00:00\n",
       "418      1-fc-slovacko             sk-sigma-olmutz  Sa. 12.04.25      00:00\n",
       "436      fk-dukla-prag               1-fc-slovacko  Mi. 04.12.24      17:30\n",
       "441      1-fc-slovacko               fk-dukla-prag  Sa. 15.02.25      16:00\n",
       "\n",
       "[240 rows x 4 columns]"
      ]
     },
     "execution_count": 61,
     "metadata": {},
     "output_type": "execute_result"
    }
   ],
   "source": [
    "fixtures.drop_duplicates()\n"
   ]
  },
  {
   "cell_type": "code",
   "execution_count": 111,
   "metadata": {},
   "outputs": [],
   "source": [
    "club_link = [td.find(\"a\")[\"href\"] for td in row.find_all(\"td\", class_=\"no-border-links hauptlink\") if td.find(\"a\")]"
   ]
  },
  {
   "cell_type": "code",
   "execution_count": 131,
   "metadata": {},
   "outputs": [
    {
     "data": {
      "text/plain": [
       "'sk-slavia-prag'"
      ]
     },
     "execution_count": 131,
     "metadata": {},
     "output_type": "execute_result"
    }
   ],
   "source": [
    "re.search(r\"/([^/]+)/spielplan/\", [td.find(\"a\")[\"href\"] for td in row.find_all(\"td\", class_=\"no-border-links hauptlink\") if td.find(\"a\")][0]).group(1)\n"
   ]
  },
  {
   "cell_type": "code",
   "execution_count": 125,
   "metadata": {},
   "outputs": [
    {
     "data": {
      "text/plain": [
       "'62'"
      ]
     },
     "execution_count": 125,
     "metadata": {},
     "output_type": "execute_result"
    }
   ],
   "source": [
    "re.search(r\"/verein/(\\d+)/\", club_link[0]).group(1)"
   ]
  },
  {
   "cell_type": "code",
   "execution_count": null,
   "metadata": {},
   "outputs": [],
   "source": [
    "\n",
    "    zentriert_columns = [td.text.strip() for td in row.find_all(\"td\", class_=[\"zentriert\", \"no-border-links hauptlink\"])]\n",
    "    event_date = zentriert_columns[1] if len(zentriert_columns) > 1 else None\n",
    "    club_link = [td.find(\"a\")[\"href\"] for td in row.find_all(\"td\", class_=\"no-border-links hauptlink\") if td.find(\"a\")]\n",
    "    club_name = [td.find(\"a\").text.strip() for td in row.find_all(\"td\", class_=\"no-border-links hauptlink\") if td.find(\"a\")]\n",
    "    match = re.search(r\"/verein/(\\d+)/\", club_link)\n",
    "    club_id = match.group(1) if match else \"N/A\"\n",
    "    print(club_id)\n"
   ]
  },
  {
   "cell_type": "code",
   "execution_count": 48,
   "metadata": {},
   "outputs": [],
   "source": [
    "import requests\n",
    "from bs4 import BeautifulSoup\n",
    "\n",
    "def get_fixtures(team_name, verein_id):\n",
    "    url = f\"https://www.transfermarkt.com/{team_name}/spielplandatum/verein/{verein_id}/plus/0?saison_id=2024&wettbewerb_id=TS1\"\n",
    "    headers = {\"User-Agent\": \"Mozilla/5.0\"}\n",
    "    \n",
    "    response = requests.get(url, headers=headers)\n",
    "    if response.status_code != 200:\n",
    "        print(\"Failed to retrieve data\")\n",
    "        return []\n",
    "    \n",
    "    soup = BeautifulSoup(response.text, 'html.parser')\n",
    "    fixtures = []\n",
    "    \n",
    "    # Finding match rows in the fixture table\n",
    "    match_rows = soup.select(\".items tbody tr\")\n",
    "    \n",
    "    for row in match_rows:\n",
    "        row_style = row.get(\"style\", \"No style\")\n",
    "        columns = row.find_all(\"td\")\n",
    "        td_contents = [(td.text.strip(), td.get(\"class\", [])) for td in columns]\n",
    "        \n",
    "        fixtures.append({\"row_style\": row_style, \"td_contents\": td_contents})\n",
    "    \n",
    "    return fixtures\n",
    "\n",
    "\n",
    "# Example usage\n",
    "team_name = \"1-fc-slovacko\"\n",
    "verein_id = \"5544\"\n",
    "fixtures = get_fixtures(team_name, verein_id)\n",
    "for fixture in fixtures:\n",
    "    print(fixture)\n"
   ]
  },
  {
   "cell_type": "code",
   "execution_count": 49,
   "metadata": {},
   "outputs": [
    {
     "data": {
      "text/plain": [
       "[]"
      ]
     },
     "execution_count": 49,
     "metadata": {},
     "output_type": "execute_result"
    }
   ],
   "source": [
    "fixtures\n",
    "\n",
    "\n"
   ]
  },
  {
   "cell_type": "code",
   "execution_count": null,
   "metadata": {},
   "outputs": [],
   "source": []
  }
 ],
 "metadata": {
  "kernelspec": {
   "display_name": ".venv",
   "language": "python",
   "name": "python3"
  },
  "language_info": {
   "codemirror_mode": {
    "name": "ipython",
    "version": 3
   },
   "file_extension": ".py",
   "mimetype": "text/x-python",
   "name": "python",
   "nbconvert_exporter": "python",
   "pygments_lexer": "ipython3",
   "version": "3.12.0"
  }
 },
 "nbformat": 4,
 "nbformat_minor": 2
}
